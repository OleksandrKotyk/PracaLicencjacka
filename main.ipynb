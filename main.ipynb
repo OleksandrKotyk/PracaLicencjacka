{
 "cells": [
  {
   "cell_type": "code",
   "execution_count": null,
   "metadata": {
    "collapsed": true,
    "pycharm": {
     "is_executing": true
    }
   },
   "outputs": [],
   "source": [
    "from tensorflow.keras.datasets import imdb\n",
    "from tensorflow.keras.preprocessing.sequence import pad_sequences\n",
    "from tensorflow.keras.models import Sequential\n",
    "from tensorflow.keras.layers import Dense\n",
    "from tensorflow.keras import utils\n",
    "import matplotlib.pyplot as plt\n",
    "import numpy\n",
    "\n",
    "\n",
    "def toVec(dataset, dim=200):\n",
    "    result = numpy.zeros((len(dataset), dim))\n",
    "    for i, val in enumerate(dataset):\n",
    "        result[i, val] = 1\n",
    "    return result\n",
    "\n",
    "\n",
    "datalen = 25000\n",
    "(x_train, y_train), (x_test, y_test) = imdb.load_data(num_words=datalen)\n",
    "x_train, y_train = x_train.copy(), y_train.copy()\n",
    "\n",
    "x_train = pad_sequences(x_train, 1000, padding=\"post\")\n",
    "x_test = pad_sequences(x_test, 1000, padding=\"post\")\n",
    "\n",
    "x_train = toVec(x_train, datalen)\n",
    "x_test = toVec(x_test, datalen)\n",
    "\n",
    "\n",
    "model = Sequential()\n",
    "model.add(Dense(200, activation=\"relu\", input_shape=(datalen,)))\n",
    "model.add(Dense(50, activation=\"relu\"))\n",
    "model.add(Dense(1, activation='sigmoid'))\n",
    "\n",
    "model.compile(optimizer=\"sgd\", loss='binary_crossentropy', metrics=['accuracy'])\n",
    "\n",
    "acc = list()\n",
    "val_acc = list()\n",
    "\n",
    "for i in range(6):\n",
    "    history = model.fit(x_train, y_train, epochs=5, batch_size=128, validation_split=0.1, verbose=0)\n",
    "    acc += history.history['acc']\n",
    "    val_acc += history.history['val_acc']\n",
    "    print(\"accuracy: \", history.history[\"acc\"])\n",
    "    print(\"val-accuracy: \", history.history[\"val_acc\"])\n",
    "    print(\"loss: \", history.history[\"loss\"])\n",
    "    scores = historyTest = model.evaluate(x_test, y_test, verbose=0)\n",
    "    print(\"################################\")\n",
    "    print(\"Test:\", scores)\n",
    "    plt.plot(acc, label='Learning')\n",
    "    plt.plot(val_acc, label='Validation')\n",
    "    plt.xlabel('Epoch')\n",
    "    plt.ylabel('Accuracy')\n",
    "    plt.legend()\n",
    "    plt.show()\n",
    "\n",
    "\n"
   ]
  }
 ],
 "metadata": {
  "kernelspec": {
   "display_name": "Python 3",
   "language": "python",
   "name": "python3"
  },
  "language_info": {
   "codemirror_mode": {
    "name": "ipython",
    "version": 2
   },
   "file_extension": ".py",
   "mimetype": "text/x-python",
   "name": "python",
   "nbconvert_exporter": "python",
   "pygments_lexer": "ipython2",
   "version": "2.7.6"
  },
  "pycharm": {
   "stem_cell": {
    "cell_type": "raw",
    "source": [],
    "metadata": {
     "collapsed": false
    }
   }
  }
 },
 "nbformat": 4,
 "nbformat_minor": 0
}
